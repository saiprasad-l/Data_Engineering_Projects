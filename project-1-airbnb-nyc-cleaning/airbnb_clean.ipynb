{
 "cells": [
  {
   "cell_type": "code",
   "execution_count": 3,
   "id": "c94bc5be",
   "metadata": {},
   "outputs": [],
   "source": [
    "import pandas as pd"
   ]
  },
  {
   "cell_type": "code",
   "execution_count": 12,
   "id": "103c6eeb",
   "metadata": {},
   "outputs": [],
   "source": [
    "# Load the dataset\n",
    "df = pd.read_csv('data/AB_NYC_2019.csv')"
   ]
  },
  {
   "cell_type": "code",
   "execution_count": 13,
   "id": "a8b8e76e",
   "metadata": {},
   "outputs": [
    {
     "data": {
      "text/plain": [
       "((48895, 16),\n",
       "      id                                              name  host_id  \\\n",
       " 0  2539                Clean & quiet apt home by the park     2787   \n",
       " 1  2595                             Skylit Midtown Castle     2845   \n",
       " 2  3647               THE VILLAGE OF HARLEM....NEW YORK !     4632   \n",
       " 3  3831                   Cozy Entire Floor of Brownstone     4869   \n",
       " 4  5022  Entire Apt: Spacious Studio/Loft by central park     7192   \n",
       " \n",
       "      host_name neighbourhood_group neighbourhood  latitude  longitude  \\\n",
       " 0         John            Brooklyn    Kensington  40.64749  -73.97237   \n",
       " 1     Jennifer           Manhattan       Midtown  40.75362  -73.98377   \n",
       " 2    Elisabeth           Manhattan        Harlem  40.80902  -73.94190   \n",
       " 3  LisaRoxanne            Brooklyn  Clinton Hill  40.68514  -73.95976   \n",
       " 4        Laura           Manhattan   East Harlem  40.79851  -73.94399   \n",
       " \n",
       "          room_type  price  minimum_nights  number_of_reviews last_review  \\\n",
       " 0     Private room    149               1                  9  2018-10-19   \n",
       " 1  Entire home/apt    225               1                 45  2019-05-21   \n",
       " 2     Private room    150               3                  0         NaN   \n",
       " 3  Entire home/apt     89               1                270  2019-07-05   \n",
       " 4  Entire home/apt     80              10                  9  2018-11-19   \n",
       " \n",
       "    reviews_per_month  calculated_host_listings_count  availability_365  \n",
       " 0               0.21                               6               365  \n",
       " 1               0.38                               2               355  \n",
       " 2                NaN                               1               365  \n",
       " 3               4.64                               1               194  \n",
       " 4               0.10                               1                 0  )"
      ]
     },
     "execution_count": 13,
     "metadata": {},
     "output_type": "execute_result"
    }
   ],
   "source": [
    "# Quick inspection\n",
    "df.shape, df.head()"
   ]
  },
  {
   "cell_type": "code",
   "execution_count": 8,
   "id": "6dd8802a",
   "metadata": {},
   "outputs": [
    {
     "data": {
      "text/plain": [
       "id                                    0\n",
       "name                                 16\n",
       "host_id                               0\n",
       "host_name                            21\n",
       "neighbourhood_group                   0\n",
       "neighbourhood                         0\n",
       "latitude                              0\n",
       "longitude                             0\n",
       "room_type                             0\n",
       "price                                 0\n",
       "minimum_nights                        0\n",
       "number_of_reviews                     0\n",
       "last_review                       10052\n",
       "reviews_per_month                 10052\n",
       "calculated_host_listings_count        0\n",
       "availability_365                      0\n",
       "dtype: int64"
      ]
     },
     "execution_count": 8,
     "metadata": {},
     "output_type": "execute_result"
    }
   ],
   "source": [
    "# Check missing values\n",
    "df.isnull().sum()"
   ]
  },
  {
   "cell_type": "code",
   "execution_count": 9,
   "id": "7223227f",
   "metadata": {},
   "outputs": [],
   "source": [
    "# Drop unnecessary columns\n",
    "df.drop(['id', 'host_name'], axis=1, inplace=True)"
   ]
  },
  {
   "cell_type": "code",
   "execution_count": 10,
   "id": "7bdb4991",
   "metadata": {},
   "outputs": [],
   "source": [
    "\n",
    "# Fill missing values safely\n",
    "df['reviews_per_month'] = df['reviews_per_month'].fillna(0)"
   ]
  },
  {
   "cell_type": "code",
   "execution_count": 11,
   "id": "4eafd115",
   "metadata": {},
   "outputs": [],
   "source": [
    "\n",
    "# Save cleaned version\n",
    "df.to_csv('data/airbnb_cleaned.csv', index=False)"
   ]
  },
  {
   "cell_type": "code",
   "execution_count": 14,
   "id": "eba5ac58",
   "metadata": {},
   "outputs": [
    {
     "ename": "NameError",
     "evalue": "name 'raw_df' is not defined",
     "output_type": "error",
     "traceback": [
      "\u001b[31m---------------------------------------------------------------------------\u001b[39m",
      "\u001b[31mNameError\u001b[39m                                 Traceback (most recent call last)",
      "\u001b[36mCell\u001b[39m\u001b[36m \u001b[39m\u001b[32mIn[14]\u001b[39m\u001b[32m, line 2\u001b[39m\n\u001b[32m      1\u001b[39m compare = pd.DataFrame({\n\u001b[32m----> \u001b[39m\u001b[32m2\u001b[39m     \u001b[33m'\u001b[39m\u001b[33mBefore\u001b[39m\u001b[33m'\u001b[39m: \u001b[43mraw_df\u001b[49m[\u001b[33m'\u001b[39m\u001b[33mreviews_per_month\u001b[39m\u001b[33m'\u001b[39m],\n\u001b[32m      3\u001b[39m     \u001b[33m'\u001b[39m\u001b[33mAfter\u001b[39m\u001b[33m'\u001b[39m: df[\u001b[33m'\u001b[39m\u001b[33mreviews_per_month\u001b[39m\u001b[33m'\u001b[39m]\n\u001b[32m      4\u001b[39m })\n\u001b[32m      6\u001b[39m compare.sample(\u001b[32m10\u001b[39m)  \u001b[38;5;66;03m# randomly compare 10 rows\u001b[39;00m\n",
      "\u001b[31mNameError\u001b[39m: name 'raw_df' is not defined"
     ]
    }
   ],
   "source": [
    "compare = pd.DataFrame({\n",
    "    'Before': raw_df['reviews_per_month'],\n",
    "    'After': df['reviews_per_month']\n",
    "})\n",
    "\n",
    "compare.sample(10)  # randomly compare 10 rows"
   ]
  }
 ],
 "metadata": {
  "kernelspec": {
   "display_name": "Python 3",
   "language": "python",
   "name": "python3"
  },
  "language_info": {
   "codemirror_mode": {
    "name": "ipython",
    "version": 3
   },
   "file_extension": ".py",
   "mimetype": "text/x-python",
   "name": "python",
   "nbconvert_exporter": "python",
   "pygments_lexer": "ipython3",
   "version": "3.12.1"
  }
 },
 "nbformat": 4,
 "nbformat_minor": 5
}

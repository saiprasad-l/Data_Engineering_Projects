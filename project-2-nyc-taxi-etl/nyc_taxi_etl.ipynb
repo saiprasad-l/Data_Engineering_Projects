{
 "cells": [
  {
   "cell_type": "code",
   "execution_count": 1,
   "id": "a78ef470",
   "metadata": {},
   "outputs": [],
   "source": [
    "from pyspark.sql import SparkSession"
   ]
  },
  {
   "cell_type": "code",
   "execution_count": 2,
   "id": "85648443",
   "metadata": {},
   "outputs": [
    {
     "name": "stderr",
     "output_type": "stream",
     "text": [
      "WARNING: Using incubator modules: jdk.incubator.vector\n",
      "Using Spark's default log4j profile: org/apache/spark/log4j2-defaults.properties\n",
      "25/09/05 01:05:11 WARN Utils: Your hostname, codespaces-c87dc6, resolves to a loopback address: 127.0.0.1; using 10.0.4.242 instead (on interface eth0)\n",
      "25/09/05 01:05:11 WARN Utils: Set SPARK_LOCAL_IP if you need to bind to another address\n",
      "Using Spark's default log4j profile: org/apache/spark/log4j2-defaults.properties\n",
      "Setting default log level to \"WARN\".\n",
      "To adjust logging level use sc.setLogLevel(newLevel). For SparkR, use setLogLevel(newLevel).\n",
      "25/09/05 01:05:14 WARN NativeCodeLoader: Unable to load native-hadoop library for your platform... using builtin-java classes where applicable\n"
     ]
    }
   ],
   "source": [
    "# Create a SparkSession\n",
    "spark = SparkSession.builder \\\n",
    "    .appName(\"NYC Taxi Trip ETL\") \\\n",
    "    .getOrCreate()"
   ]
  },
  {
   "cell_type": "code",
   "execution_count": 3,
   "id": "24c5dde4",
   "metadata": {},
   "outputs": [
    {
     "name": "stderr",
     "output_type": "stream",
     "text": [
      "                                                                                \r"
     ]
    }
   ],
   "source": [
    "# Load the yellow trip data from parquet\n",
    "trip_df = spark.read.parquet(\"data/raw/yellow_tripdata_2023-01.parquet\")"
   ]
  },
  {
   "cell_type": "code",
   "execution_count": 4,
   "id": "fb517bfe",
   "metadata": {},
   "outputs": [
    {
     "name": "stdout",
     "output_type": "stream",
     "text": [
      "root\n",
      " |-- VendorID: long (nullable = true)\n",
      " |-- tpep_pickup_datetime: timestamp_ntz (nullable = true)\n",
      " |-- tpep_dropoff_datetime: timestamp_ntz (nullable = true)\n",
      " |-- passenger_count: double (nullable = true)\n",
      " |-- trip_distance: double (nullable = true)\n",
      " |-- RatecodeID: double (nullable = true)\n",
      " |-- store_and_fwd_flag: string (nullable = true)\n",
      " |-- PULocationID: long (nullable = true)\n",
      " |-- DOLocationID: long (nullable = true)\n",
      " |-- payment_type: long (nullable = true)\n",
      " |-- fare_amount: double (nullable = true)\n",
      " |-- extra: double (nullable = true)\n",
      " |-- mta_tax: double (nullable = true)\n",
      " |-- tip_amount: double (nullable = true)\n",
      " |-- tolls_amount: double (nullable = true)\n",
      " |-- improvement_surcharge: double (nullable = true)\n",
      " |-- total_amount: double (nullable = true)\n",
      " |-- congestion_surcharge: double (nullable = true)\n",
      " |-- airport_fee: double (nullable = true)\n",
      "\n"
     ]
    },
    {
     "name": "stderr",
     "output_type": "stream",
     "text": [
      "[Stage 1:>                                                          (0 + 1) / 1]\r"
     ]
    },
    {
     "name": "stdout",
     "output_type": "stream",
     "text": [
      "+--------+--------------------+---------------------+---------------+-------------+----------+------------------+------------+------------+------------+-----------+-----+-------+----------+------------+---------------------+------------+--------------------+-----------+\n",
      "|VendorID|tpep_pickup_datetime|tpep_dropoff_datetime|passenger_count|trip_distance|RatecodeID|store_and_fwd_flag|PULocationID|DOLocationID|payment_type|fare_amount|extra|mta_tax|tip_amount|tolls_amount|improvement_surcharge|total_amount|congestion_surcharge|airport_fee|\n",
      "+--------+--------------------+---------------------+---------------+-------------+----------+------------------+------------+------------+------------+-----------+-----+-------+----------+------------+---------------------+------------+--------------------+-----------+\n",
      "|       2| 2023-01-01 00:32:10|  2023-01-01 00:40:36|            1.0|         0.97|       1.0|                 N|         161|         141|           2|        9.3|  1.0|    0.5|       0.0|         0.0|                  1.0|        14.3|                 2.5|        0.0|\n",
      "|       2| 2023-01-01 00:55:08|  2023-01-01 01:01:27|            1.0|          1.1|       1.0|                 N|          43|         237|           1|        7.9|  1.0|    0.5|       4.0|         0.0|                  1.0|        16.9|                 2.5|        0.0|\n",
      "|       2| 2023-01-01 00:25:04|  2023-01-01 00:37:49|            1.0|         2.51|       1.0|                 N|          48|         238|           1|       14.9|  1.0|    0.5|      15.0|         0.0|                  1.0|        34.9|                 2.5|        0.0|\n",
      "|       1| 2023-01-01 00:03:48|  2023-01-01 00:13:25|            0.0|          1.9|       1.0|                 N|         138|           7|           1|       12.1| 7.25|    0.5|       0.0|         0.0|                  1.0|       20.85|                 0.0|       1.25|\n",
      "|       2| 2023-01-01 00:10:29|  2023-01-01 00:21:19|            1.0|         1.43|       1.0|                 N|         107|          79|           1|       11.4|  1.0|    0.5|      3.28|         0.0|                  1.0|       19.68|                 2.5|        0.0|\n",
      "+--------+--------------------+---------------------+---------------+-------------+----------+------------------+------------+------------+------------+-----------+-----+-------+----------+------------+---------------------+------------+--------------------+-----------+\n",
      "only showing top 5 rows\n"
     ]
    },
    {
     "name": "stderr",
     "output_type": "stream",
     "text": [
      "                                                                                \r"
     ]
    }
   ],
   "source": [
    "# Show the schema and sample rows\n",
    "trip_df.printSchema()\n",
    "trip_df.show(5)"
   ]
  },
  {
   "cell_type": "code",
   "execution_count": 5,
   "id": "5b1a05c3",
   "metadata": {},
   "outputs": [
    {
     "name": "stdout",
     "output_type": "stream",
     "text": [
      "root\n",
      " |-- LocationID: string (nullable = true)\n",
      " |-- Borough: string (nullable = true)\n",
      " |-- Zone: string (nullable = true)\n",
      " |-- service_zone: string (nullable = true)\n",
      "\n",
      "+----------+-------------+--------------------+------------+\n",
      "|LocationID|      Borough|                Zone|service_zone|\n",
      "+----------+-------------+--------------------+------------+\n",
      "|         1|          EWR|      Newark Airport|         EWR|\n",
      "|         2|       Queens|         Jamaica Bay|   Boro Zone|\n",
      "|         3|        Bronx|Allerton/Pelham G...|   Boro Zone|\n",
      "|         4|    Manhattan|       Alphabet City| Yellow Zone|\n",
      "|         5|Staten Island|       Arden Heights|   Boro Zone|\n",
      "+----------+-------------+--------------------+------------+\n",
      "only showing top 5 rows\n"
     ]
    }
   ],
   "source": [
    "# Load the zone lookup table\n",
    "zone_df = spark.read.option(\"header\", \"true\").csv(\"data/raw/taxi_zone_lookup.csv\")\n",
    "\n",
    "zone_df.printSchema()\n",
    "zone_df.show(5)"
   ]
  },
  {
   "cell_type": "code",
   "execution_count": 6,
   "id": "87d3da56",
   "metadata": {},
   "outputs": [],
   "source": [
    "# Rename columns to avoid confusion\n",
    "zone_df = zone_df.withColumnRenamed(\"LocationID\", \"pickup_location_id\") \\\n",
    "                 .withColumnRenamed(\"Borough\", \"pickup_borough\") \\\n",
    "                 .withColumnRenamed(\"Zone\", \"pickup_zone\")"
   ]
  },
  {
   "cell_type": "code",
   "execution_count": 7,
   "id": "840930f4",
   "metadata": {},
   "outputs": [
    {
     "name": "stdout",
     "output_type": "stream",
     "text": [
      "+------------+-----------------+--------------+--------------------+\n",
      "|PULocationID|      pickup_zone|pickup_borough|tpep_pickup_datetime|\n",
      "+------------+-----------------+--------------+--------------------+\n",
      "|         161|   Midtown Center|     Manhattan| 2023-01-01 00:32:10|\n",
      "|          43|     Central Park|     Manhattan| 2023-01-01 00:55:08|\n",
      "|          48|     Clinton East|     Manhattan| 2023-01-01 00:25:04|\n",
      "|         138|LaGuardia Airport|        Queens| 2023-01-01 00:03:48|\n",
      "|         107|         Gramercy|     Manhattan| 2023-01-01 00:10:29|\n",
      "+------------+-----------------+--------------+--------------------+\n",
      "only showing top 5 rows\n"
     ]
    }
   ],
   "source": [
    "# Join pickup location\n",
    "trip_df = trip_df.join(zone_df, trip_df.PULocationID == zone_df.pickup_location_id, \"left\")\n",
    "\n",
    "trip_df.select(\"PULocationID\", \"pickup_zone\", \"pickup_borough\", \"tpep_pickup_datetime\").show(5)"
   ]
  },
  {
   "cell_type": "code",
   "execution_count": 8,
   "id": "7aef5076",
   "metadata": {},
   "outputs": [
    {
     "name": "stderr",
     "output_type": "stream",
     "text": [
      "                                                                                \r"
     ]
    }
   ],
   "source": [
    "trip_df.write.mode(\"overwrite\").parquet(\"output/parquet/yellow_tripdata_enriched\")"
   ]
  },
  {
   "cell_type": "code",
   "execution_count": 9,
   "id": "8e9eb2c1",
   "metadata": {},
   "outputs": [
    {
     "name": "stdout",
     "output_type": "stream",
     "text": [
      "+--------+--------------------+---------------------+---------------+-------------+----------+------------------+------------+------------+------------+-----------+-----+-------+----------+------------+---------------------+------------+--------------------+-----------+------------------+--------------+-----------------+------------+\n",
      "|VendorID|tpep_pickup_datetime|tpep_dropoff_datetime|passenger_count|trip_distance|RatecodeID|store_and_fwd_flag|PULocationID|DOLocationID|payment_type|fare_amount|extra|mta_tax|tip_amount|tolls_amount|improvement_surcharge|total_amount|congestion_surcharge|airport_fee|pickup_location_id|pickup_borough|      pickup_zone|service_zone|\n",
      "+--------+--------------------+---------------------+---------------+-------------+----------+------------------+------------+------------+------------+-----------+-----+-------+----------+------------+---------------------+------------+--------------------+-----------+------------------+--------------+-----------------+------------+\n",
      "|       2| 2023-01-01 00:32:10|  2023-01-01 00:40:36|            1.0|         0.97|       1.0|                 N|         161|         141|           2|        9.3|  1.0|    0.5|       0.0|         0.0|                  1.0|        14.3|                 2.5|        0.0|               161|     Manhattan|   Midtown Center| Yellow Zone|\n",
      "|       2| 2023-01-01 00:55:08|  2023-01-01 01:01:27|            1.0|          1.1|       1.0|                 N|          43|         237|           1|        7.9|  1.0|    0.5|       4.0|         0.0|                  1.0|        16.9|                 2.5|        0.0|                43|     Manhattan|     Central Park| Yellow Zone|\n",
      "|       2| 2023-01-01 00:25:04|  2023-01-01 00:37:49|            1.0|         2.51|       1.0|                 N|          48|         238|           1|       14.9|  1.0|    0.5|      15.0|         0.0|                  1.0|        34.9|                 2.5|        0.0|                48|     Manhattan|     Clinton East| Yellow Zone|\n",
      "|       1| 2023-01-01 00:03:48|  2023-01-01 00:13:25|            0.0|          1.9|       1.0|                 N|         138|           7|           1|       12.1| 7.25|    0.5|       0.0|         0.0|                  1.0|       20.85|                 0.0|       1.25|               138|        Queens|LaGuardia Airport|    Airports|\n",
      "|       2| 2023-01-01 00:10:29|  2023-01-01 00:21:19|            1.0|         1.43|       1.0|                 N|         107|          79|           1|       11.4|  1.0|    0.5|      3.28|         0.0|                  1.0|       19.68|                 2.5|        0.0|               107|     Manhattan|         Gramercy| Yellow Zone|\n",
      "+--------+--------------------+---------------------+---------------+-------------+----------+------------------+------------+------------+------------+-----------+-----+-------+----------+------------+---------------------+------------+--------------------+-----------+------------------+--------------+-----------------+------------+\n",
      "only showing top 5 rows\n"
     ]
    }
   ],
   "source": [
    "df = spark.read.parquet(\"output/parquet/yellow_tripdata_enriched\")\n",
    "df.show(5)"
   ]
  },
  {
   "cell_type": "code",
   "execution_count": 10,
   "id": "3716fb1d",
   "metadata": {},
   "outputs": [
    {
     "name": "stdout",
     "output_type": "stream",
     "text": [
      "+--------------------+---------------------+---------------------+\n",
      "|tpep_pickup_datetime|tpep_dropoff_datetime|trip_duration_minutes|\n",
      "+--------------------+---------------------+---------------------+\n",
      "| 2023-01-01 00:32:10|  2023-01-01 00:40:36|                 8.43|\n",
      "| 2023-01-01 00:55:08|  2023-01-01 01:01:27|                 6.32|\n",
      "| 2023-01-01 00:25:04|  2023-01-01 00:37:49|                12.75|\n",
      "| 2023-01-01 00:03:48|  2023-01-01 00:13:25|                 9.62|\n",
      "| 2023-01-01 00:10:29|  2023-01-01 00:21:19|                10.83|\n",
      "+--------------------+---------------------+---------------------+\n",
      "only showing top 5 rows\n"
     ]
    }
   ],
   "source": [
    "from pyspark.sql.functions import col, unix_timestamp, round\n",
    "\n",
    "# Calculate trip duration in minutes\n",
    "trip_df = trip_df.withColumn(\n",
    "    \"trip_duration_minutes\",\n",
    "    round((unix_timestamp(\"tpep_dropoff_datetime\") - unix_timestamp(\"tpep_pickup_datetime\")) / 60, 2)\n",
    ")\n",
    "\n",
    "trip_df.select(\"tpep_pickup_datetime\", \"tpep_dropoff_datetime\", \"trip_duration_minutes\").show(5)"
   ]
  },
  {
   "cell_type": "code",
   "execution_count": 11,
   "id": "12d7e692",
   "metadata": {},
   "outputs": [
    {
     "name": "stdout",
     "output_type": "stream",
     "text": [
      "+---------------------+-----------+-------------+\n",
      "|trip_duration_minutes|fare_amount|trip_distance|\n",
      "+---------------------+-----------+-------------+\n",
      "|                 8.43|        9.3|         0.97|\n",
      "|                 6.32|        7.9|          1.1|\n",
      "|                12.75|       14.9|         2.51|\n",
      "|                 9.62|       12.1|          1.9|\n",
      "|                10.83|       11.4|         1.43|\n",
      "+---------------------+-----------+-------------+\n",
      "only showing top 5 rows\n"
     ]
    }
   ],
   "source": [
    "# Filter out bad rows\n",
    "trip_df_cleaned = trip_df.filter(\n",
    "    (col(\"tpep_pickup_datetime\").isNotNull()) &\n",
    "    (col(\"tpep_dropoff_datetime\").isNotNull()) &\n",
    "    (col(\"trip_duration_minutes\") > 1) &\n",
    "    (col(\"trip_duration_minutes\") < 180) &\n",
    "    (col(\"fare_amount\") > 0) &\n",
    "    (col(\"trip_distance\") > 0)\n",
    ")\n",
    "\n",
    "trip_df_cleaned.select(\"trip_duration_minutes\", \"fare_amount\", \"trip_distance\").show(5)"
   ]
  },
  {
   "cell_type": "code",
   "execution_count": 12,
   "id": "bc6e6dc2",
   "metadata": {},
   "outputs": [
    {
     "name": "stdout",
     "output_type": "stream",
     "text": [
      "+-----------+------------+----------+-----------+\n",
      "|pickup_year|pickup_month|pickup_day|pickup_hour|\n",
      "+-----------+------------+----------+-----------+\n",
      "|       2023|           1|         1|          0|\n",
      "|       2023|           1|         1|          0|\n",
      "|       2023|           1|         1|          0|\n",
      "|       2023|           1|         1|          0|\n",
      "|       2023|           1|         1|          0|\n",
      "+-----------+------------+----------+-----------+\n",
      "only showing top 5 rows\n"
     ]
    }
   ],
   "source": [
    "from pyspark.sql.functions import year, month, dayofmonth, hour\n",
    "\n",
    "trip_df_cleaned = trip_df_cleaned.withColumn(\"pickup_year\", year(\"tpep_pickup_datetime\")) \\\n",
    "                                 .withColumn(\"pickup_month\", month(\"tpep_pickup_datetime\")) \\\n",
    "                                 .withColumn(\"pickup_day\", dayofmonth(\"tpep_pickup_datetime\")) \\\n",
    "                                 .withColumn(\"pickup_hour\", hour(\"tpep_pickup_datetime\"))\n",
    "\n",
    "trip_df_cleaned.select(\"pickup_year\", \"pickup_month\", \"pickup_day\", \"pickup_hour\").show(5)"
   ]
  },
  {
   "cell_type": "code",
   "execution_count": 13,
   "id": "96e6aff0",
   "metadata": {},
   "outputs": [
    {
     "name": "stderr",
     "output_type": "stream",
     "text": [
      "25/09/05 01:05:47 WARN SparkStringUtils: Truncated the string representation of a plan since it was too large. This behavior can be adjusted by setting 'spark.sql.debug.maxToStringFields'.\n",
      "                                                                                \r"
     ]
    }
   ],
   "source": [
    "trip_df_cleaned.write.mode(\"overwrite\").parquet(\"output/cleaned/yellow_tripdata_cleaned\")"
   ]
  },
  {
   "cell_type": "code",
   "execution_count": 14,
   "id": "db76354d",
   "metadata": {},
   "outputs": [
    {
     "name": "stderr",
     "output_type": "stream",
     "text": [
      "[Stage 19:=============================>                            (1 + 1) / 2]\r"
     ]
    },
    {
     "name": "stdout",
     "output_type": "stream",
     "text": [
      "+--------------------+------+\n",
      "|         pickup_zone| count|\n",
      "+--------------------+------+\n",
      "|         JFK Airport|152822|\n",
      "|Upper East Side S...|145786|\n",
      "|Upper East Side N...|136259|\n",
      "|      Midtown Center|133025|\n",
      "|Penn Station/Madi...|107407|\n",
      "|        Midtown East|103540|\n",
      "| Lincoln Square East| 98463|\n",
      "|Times Sq/Theatre ...| 96761|\n",
      "|   LaGuardia Airport| 87724|\n",
      "|         Murray Hill| 86601|\n",
      "+--------------------+------+\n",
      "\n"
     ]
    },
    {
     "name": "stderr",
     "output_type": "stream",
     "text": [
      "                                                                                \r"
     ]
    }
   ],
   "source": [
    "top_pickup_zones = trip_df_cleaned.groupBy(\"pickup_zone\") \\\n",
    "    .count() \\\n",
    "    .orderBy(col(\"count\").desc()) \\\n",
    "    .limit(10)\n",
    "\n",
    "top_pickup_zones.show()"
   ]
  },
  {
   "cell_type": "code",
   "execution_count": 15,
   "id": "fd212a95",
   "metadata": {},
   "outputs": [
    {
     "name": "stderr",
     "output_type": "stream",
     "text": [
      "                                                                                \r"
     ]
    }
   ],
   "source": [
    "top_pickup_zones.write.mode(\"overwrite\").csv(\"output/summaries/top_10_pickup_zones\", header=True)"
   ]
  },
  {
   "cell_type": "code",
   "execution_count": 16,
   "id": "283a3890",
   "metadata": {},
   "outputs": [
    {
     "name": "stderr",
     "output_type": "stream",
     "text": [
      "[Stage 27:=============================>                            (1 + 1) / 2]\r"
     ]
    },
    {
     "name": "stdout",
     "output_type": "stream",
     "text": [
      "+--------------+------------------+\n",
      "|pickup_borough|          avg_fare|\n",
      "+--------------+------------------+\n",
      "|           EWR| 87.60538461538462|\n",
      "|           N/A| 66.04131736526946|\n",
      "| Staten Island|58.477109004739475|\n",
      "|        Queens| 52.32474880674893|\n",
      "|         Bronx| 30.31594920221405|\n",
      "|       Unknown| 27.12036107418224|\n",
      "|      Brooklyn|26.334792620865493|\n",
      "|     Manhattan|14.904216290651584|\n",
      "+--------------+------------------+\n",
      "\n"
     ]
    },
    {
     "name": "stderr",
     "output_type": "stream",
     "text": [
      "                                                                                \r"
     ]
    }
   ],
   "source": [
    "avg_fare_by_borough = trip_df_cleaned.groupBy(\"pickup_borough\") \\\n",
    "    .agg({\"fare_amount\": \"avg\"}) \\\n",
    "    .withColumnRenamed(\"avg(fare_amount)\", \"avg_fare\") \\\n",
    "    .orderBy(col(\"avg_fare\").desc())\n",
    "\n",
    "avg_fare_by_borough.show()"
   ]
  },
  {
   "cell_type": "code",
   "execution_count": 17,
   "id": "2ceb85ef",
   "metadata": {},
   "outputs": [
    {
     "name": "stderr",
     "output_type": "stream",
     "text": [
      "                                                                                \r"
     ]
    }
   ],
   "source": [
    "avg_fare_by_borough.write.mode(\"overwrite\").csv(\"output/summaries/avg_fare_by_borough\", header=True)"
   ]
  },
  {
   "cell_type": "code",
   "execution_count": 18,
   "id": "0e474efe",
   "metadata": {},
   "outputs": [
    {
     "name": "stderr",
     "output_type": "stream",
     "text": [
      "[Stage 40:=============================>                            (1 + 1) / 2]\r"
     ]
    },
    {
     "name": "stdout",
     "output_type": "stream",
     "text": [
      "+-----------+------+\n",
      "|pickup_hour| count|\n",
      "+-----------+------+\n",
      "|          0| 82276|\n",
      "|          1| 57754|\n",
      "|          2| 40431|\n",
      "|          3| 26143|\n",
      "|          4| 16614|\n",
      "|          5| 16946|\n",
      "|          6| 42299|\n",
      "|          7| 84563|\n",
      "|          8|114053|\n",
      "|          9|127969|\n",
      "|         10|140214|\n",
      "|         11|150526|\n",
      "|         12|165696|\n",
      "|         13|174163|\n",
      "|         14|186726|\n",
      "|         15|191373|\n",
      "|         16|190672|\n",
      "|         17|204378|\n",
      "|         18|210840|\n",
      "|         19|188333|\n",
      "+-----------+------+\n",
      "only showing top 20 rows\n"
     ]
    },
    {
     "name": "stderr",
     "output_type": "stream",
     "text": [
      "                                                                                \r"
     ]
    }
   ],
   "source": [
    "trips_by_hour = trip_df_cleaned.groupBy(\"pickup_hour\") \\\n",
    "    .count() \\\n",
    "    .orderBy(\"pickup_hour\")\n",
    "\n",
    "trips_by_hour.show()"
   ]
  },
  {
   "cell_type": "code",
   "execution_count": 19,
   "id": "ee230f7c",
   "metadata": {},
   "outputs": [
    {
     "name": "stderr",
     "output_type": "stream",
     "text": [
      "                                                                                \r"
     ]
    }
   ],
   "source": [
    "trips_by_hour.write.mode(\"overwrite\").csv(\"output/summaries/trips_by_hour\", header=True)"
   ]
  }
 ],
 "metadata": {
  "kernelspec": {
   "display_name": "Python 3",
   "language": "python",
   "name": "python3"
  },
  "language_info": {
   "codemirror_mode": {
    "name": "ipython",
    "version": 3
   },
   "file_extension": ".py",
   "mimetype": "text/x-python",
   "name": "python",
   "nbconvert_exporter": "python",
   "pygments_lexer": "ipython3",
   "version": "3.12.1"
  }
 },
 "nbformat": 4,
 "nbformat_minor": 5
}
